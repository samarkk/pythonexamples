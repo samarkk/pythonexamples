{
 "cells": [
  {
   "cell_type": "code",
   "execution_count": 1,
   "id": "0345cb3b",
   "metadata": {},
   "outputs": [
    {
     "data": {
      "text/html": [
       "'''\n",
       "<style>\n",
       "*{\n",
       "font-size: 16px;\n",
       "}\n",
       "#notebook-container {\n",
       "  box-shadow: none !important;\n",
       "}\n",
       "\n",
       ".container {\n",
       "  width: 90% !important;\n",
       "}\n",
       "\n",
       ".notebook_app {\n",
       "  background: #fff !important;\n",
       "}\n",
       "\n",
       "body > #header {\n",
       "  background: lightblue;\n",
       "}\n",
       "\n",
       ".navbar-default {\n",
       "  background: none;\n",
       "  border: none;\n",
       "}\n",
       "\n",
       ".navbar-default .navbar-nav > li > a, #kernel_indicator {\n",
       "  /* color: rgba(255, 255, 255, 0.25);*/\n",
       "  /* color: black;*/\n",
       "  font-weight: bold;\n",
       "  border-bottom: 2px solid #f57b00;\n",
       "  transition: all 0.25s;\n",
       "}\n",
       "\n",
       ".navbar-default .navbar-nav > li > a:hover,\n",
       "#kernel_indicator:hover {\n",
       "  border-bottom: 2px solid #fff;\n",
       "  color: rgba(255, 255, 255, 1);\n",
       "}\n",
       "\n",
       "div.input_area {\n",
       "  border: none;\n",
       "  border-radius: 0;\n",
       "  background: #f7f7f7;\n",
       "  line-height: 1.5em;\n",
       "  margin: 0.5em 0;\n",
       "  padding: 0;\n",
       "  \n",
       "}\n",
       "\n",
       "div.cell {\n",
       "  transition: all 0.25s;\n",
       "  border: none;\n",
       "  position: relative;\n",
       "  top: 0;\n",
       "}\n",
       "\n",
       "div.cell.selected,\n",
       "div.cell.selected.jupyter-soft-selected {\n",
       "  border: none; \n",
       "  background: transparent;\n",
       "  box-shadow: 0 6px 18px #aaa;\n",
       "  z-index: 10;\n",
       "  top: -10px;\n",
       "}\n",
       "\n",
       "div#pager {\n",
       "  opacity: 0.85;\n",
       "  z-index: 9999;\n",
       "}\n",
       "\n",
       ".navbar-default .navbar-nav > .open > a,\n",
       ".navbar-default .navbar-nav > .open > a:hover,\n",
       ".navbar-default .navbar-nav > .open > a:focus {\n",
       "  color: #fff;\n",
       "  background-color: transparent;\n",
       "  border-bottom: 2px solid #fff;\n",
       "}\n",
       "\n",
       ".dropdown-menu {\n",
       "  z-index: 999999 !important;\n",
       "  background-color: #f57b00;\n",
       "  opacity: 0.95;\n",
       "}\n",
       "\n",
       ".dropdown-menu > li > a {\n",
       "  color: #fff;\n",
       "}\n",
       "\n",
       ".dropdown-menu > .disabled > a,\n",
       ".dropdown-menu > .disabled > a:hover,\n",
       ".dropdown-menu > .disabled > a:focus {\n",
       "  color: rgba(255, 255, 255, 0.25);\n",
       "}\n",
       "\n",
       ".navbar-nav > li > .dropdown-menu {\n",
       "  border: none;\n",
       "  box-shadow: none;\n",
       "}\n",
       "\n",
       "div.output_wrapper {\n",
       "  background:  #eee;\n",
       "  border: 1px solid green;\n",
       "  border-radius: 5px;\n",
       "}\n",
       "\n",
       "div.cell.unselected div.output_area {\n",
       "  box-shadow: inset 0 0 25px #aaa;\n",
       "  padding: 1em 0;\n",
       "  overflow-x: auto;\n",
       "  transition: all 0.25s;\n",
       "  background: lightgray;\n",
       "}\n",
       "\n",
       "div.cell.selected .output_area {\n",
       "  box-shadow: inset 0 0 5px #aaa;\n",
       "  padding: 0.5em 0;\n",
       "  overflow-x: auto;\n",
       "}\n",
       "\n",
       "div.cell.selected .div.output_scroll {\n",
       "  box-shadow: none;\n",
       "}\n",
       "\n",
       "div.output_wrapper {\n",
       "  margin: 0 0 1em;\n",
       "  transition: all 0.25s;\n",
       "}\n",
       "\n",
       "div.cell.selected .output_wrapper {\n",
       "  margin: 0;\n",
       "}\n",
       "\n",
       ".dataframe {\n",
       "  background: #fff;\n",
       "  box-shadow: 0px 1px 2px #bbb;\n",
       "}\n",
       "\n",
       ".dataframe thead th,\n",
       ".dataframe tbody td {\n",
       "  text-align: right;\n",
       "  padding: 1em;\n",
       "}\n",
       "\n",
       ".output,\n",
       "div.output_scroll {\n",
       "  box-shadow: none;\n",
       "}\n",
       "\n",
       ".rendered_html pre code {\n",
       "  background: #f4f4f4;\n",
       "  border: 1px solid #ddd;\n",
       "  border-left: 3px solid #2a7bbd;\n",
       "  color: #444;\n",
       "  page-break-inside: avoid;\n",
       "  font-family: monospace;\n",
       "  font-size: 15px;\n",
       "  line-height: 1.6;\n",
       "  margin-bottom: 1.6em;\n",
       "  max-width: 100%;\n",
       "  overflow: auto;\n",
       "  padding: 1em 1.5em;\n",
       "  display: block;\n",
       "  word-wrap: break-word;\n",
       "}\n",
       "\n",
       "h1,\n",
       ".h1 {\n",
       "  font-size: 33px;\n",
       "  font-family: \"Trebuchet MS\";\n",
       "  font-size: 2.5em !important;\n",
       "  color: #2a7bbd;\n",
       "}\n",
       "</style>\n",
       "'''"
      ],
      "text/plain": [
       "<IPython.core.display.HTML object>"
      ]
     },
     "execution_count": 1,
     "metadata": {},
     "output_type": "execute_result"
    }
   ],
   "source": [
    "from IPython.core.display import HTML\n",
    "HTML(open('D:/localmts/python/css1.py').read())"
   ]
  },
  {
   "cell_type": "code",
   "execution_count": 3,
   "id": "0b3cc678",
   "metadata": {},
   "outputs": [],
   "source": [
    "import pandas as pd\n",
    "import numpy as np\n",
    "import matplotlib.pyplot as plt"
   ]
  },
  {
   "cell_type": "code",
   "execution_count": 4,
   "id": "26d21fab",
   "metadata": {},
   "outputs": [],
   "source": [
    "# Create a dataframe that we will index by multiple levels\n",
    "# here by fruit and quality\n",
    "fruits_quality_df = pd.DataFrame({\n",
    "    'fruit': ['apple', 'apple', 'apple', 'apple', 'apple', 'apple', 'mango', 'mango', 'mango', 'mango', 'mango', 'mango'],\n",
    "    'quality': ['low', 'medium',  'ok', 'good', 'better', 'best', 'low', 'medium',  'ok', 'good', 'better', 'best',],\n",
    "    'jan': [100, 124, 97, 130, 142, 98, 40, 34, 30, 54, 49, 100],\n",
    "    'feb': [190, 234, 187, 321, 423, 189, 45, 54, 57, 61, 73, 97],\n",
    "    'mar': [147, 214, 237, 494, 212, 300, 515, 435, 567, 100, 94, 112],\n",
    "    'apr': [193, 387, 262, 380, 109, 127, 168, 142, 259,  62,  94, 496],\n",
    "    'may': [386, 358, 475, 151, 191,  69, 432,  72, 498, 171, 169, 150],\n",
    "    'jun':  [369, 256, 151, 293, 413, 483, 375, 153, 243, 496, 458, 395],\n",
    "    'jul':  [442, 350,  75, 293,  60, 261, 367, 128, 251, 435, 392,  91],\n",
    "    'aug':  [412, 145, 445, 191,  82, 381, 255, 391, 362, 116, 180, 217],\n",
    "    'sep':  [347, 119, 186, 376, 165, 313, 407, 437, 243, 461, 160, 188],\n",
    "    'oct':  [468, 480, 101, 396, 310,  86, 309, 463, 124, 351, 246, 434],\n",
    "    'nov':  [494, 238, 191, 492, 129, 470, 137, 484,  97, 133, 430, 179],\n",
    "    'dec':  [169, 487, 424, 297,  69, 246, 406, 447, 137, 231, 323, 326]\n",
    "})"
   ]
  },
  {
   "cell_type": "code",
   "execution_count": 5,
   "id": "f160f729",
   "metadata": {},
   "outputs": [
    {
     "data": {
      "text/plain": [
       "RangeIndex(start=0, stop=12, step=1)"
      ]
     },
     "execution_count": 5,
     "metadata": {},
     "output_type": "execute_result"
    }
   ],
   "source": [
    "fruits_quality_df.index"
   ]
  },
  {
   "cell_type": "code",
   "execution_count": 6,
   "id": "b7b423c4",
   "metadata": {},
   "outputs": [],
   "source": [
    "multi_index_df = fruits_quality_df.set_index(['fruit', 'quality'])"
   ]
  },
  {
   "cell_type": "markdown",
   "id": "9adf3652",
   "metadata": {},
   "source": [
    "# Accessing multi index data frame elements\n",
    "## using xs\n",
    "## sorting and enable fast, range access\n",
    "### using slice\n",
    "### using IndexSlice"
   ]
  },
  {
   "cell_type": "code",
   "execution_count": 8,
   "id": "0554bd56",
   "metadata": {},
   "outputs": [
    {
     "data": {
      "text/plain": [
       "jan    130\n",
       "feb    321\n",
       "mar    494\n",
       "apr    380\n",
       "may    151\n",
       "jun    293\n",
       "jul    293\n",
       "aug    191\n",
       "sep    376\n",
       "oct    396\n",
       "nov    492\n",
       "dec    297\n",
       "Name: (apple, good), dtype: int64"
      ]
     },
     "execution_count": 8,
     "metadata": {},
     "output_type": "execute_result"
    }
   ],
   "source": [
    "# access a particular index item\n",
    "multi_index_df.xs((\"apple\", \"good\"))"
   ]
  },
  {
   "cell_type": "code",
   "execution_count": 9,
   "id": "42fabb72",
   "metadata": {},
   "outputs": [
    {
     "name": "stdout",
     "output_type": "stream",
     "text": [
      "         jan  feb  mar  apr  may  jun  jul  aug  sep  oct  nov  dec\n",
      "quality                                                            \n",
      "low      100  190  147  193  386  369  442  412  347  468  494  169\n",
      "medium   124  234  214  387  358  256  350  145  119  480  238  487\n",
      "ok        97  187  237  262  475  151   75  445  186  101  191  424\n",
      "good     130  321  494  380  151  293  293  191  376  396  492  297\n",
      "better   142  423  212  109  191  413   60   82  165  310  129   69\n",
      "best      98  189  300  127   69  483  261  381  313   86  470  246\n",
      "         jan  feb  mar  apr  may  jun  jul  aug  sep  oct  nov  dec\n",
      "quality                                                            \n",
      "low       40   45  515  168  432  375  367  255  407  309  137  406\n",
      "medium    34   54  435  142   72  153  128  391  437  463  484  447\n",
      "ok        30   57  567  259  498  243  251  362  243  124   97  137\n",
      "good      54   61  100   62  171  496  435  116  461  351  133  231\n",
      "better    49   73   94   94  169  458  392  180  160  246  430  323\n",
      "best     100   97  112  496  150  395   91  217  188  434  179  326\n"
     ]
    }
   ],
   "source": [
    "#  Get values at specified index\n",
    "print(multi_index_df.xs('apple'))\n",
    "print(multi_index_df.xs('mango'))"
   ]
  },
  {
   "cell_type": "code",
   "execution_count": 10,
   "id": "c06349a4",
   "metadata": {},
   "outputs": [
    {
     "data": {
      "text/html": [
       "<div>\n",
       "<style scoped>\n",
       "    .dataframe tbody tr th:only-of-type {\n",
       "        vertical-align: middle;\n",
       "    }\n",
       "\n",
       "    .dataframe tbody tr th {\n",
       "        vertical-align: top;\n",
       "    }\n",
       "\n",
       "    .dataframe thead th {\n",
       "        text-align: right;\n",
       "    }\n",
       "</style>\n",
       "<table border=\"1\" class=\"dataframe\">\n",
       "  <thead>\n",
       "    <tr style=\"text-align: right;\">\n",
       "      <th></th>\n",
       "      <th>jan</th>\n",
       "      <th>feb</th>\n",
       "      <th>mar</th>\n",
       "      <th>apr</th>\n",
       "      <th>may</th>\n",
       "      <th>jun</th>\n",
       "      <th>jul</th>\n",
       "      <th>aug</th>\n",
       "      <th>sep</th>\n",
       "      <th>oct</th>\n",
       "      <th>nov</th>\n",
       "      <th>dec</th>\n",
       "    </tr>\n",
       "    <tr>\n",
       "      <th>fruit</th>\n",
       "      <th></th>\n",
       "      <th></th>\n",
       "      <th></th>\n",
       "      <th></th>\n",
       "      <th></th>\n",
       "      <th></th>\n",
       "      <th></th>\n",
       "      <th></th>\n",
       "      <th></th>\n",
       "      <th></th>\n",
       "      <th></th>\n",
       "      <th></th>\n",
       "    </tr>\n",
       "  </thead>\n",
       "  <tbody>\n",
       "    <tr>\n",
       "      <th>apple</th>\n",
       "      <td>98</td>\n",
       "      <td>189</td>\n",
       "      <td>300</td>\n",
       "      <td>127</td>\n",
       "      <td>69</td>\n",
       "      <td>483</td>\n",
       "      <td>261</td>\n",
       "      <td>381</td>\n",
       "      <td>313</td>\n",
       "      <td>86</td>\n",
       "      <td>470</td>\n",
       "      <td>246</td>\n",
       "    </tr>\n",
       "    <tr>\n",
       "      <th>mango</th>\n",
       "      <td>100</td>\n",
       "      <td>97</td>\n",
       "      <td>112</td>\n",
       "      <td>496</td>\n",
       "      <td>150</td>\n",
       "      <td>395</td>\n",
       "      <td>91</td>\n",
       "      <td>217</td>\n",
       "      <td>188</td>\n",
       "      <td>434</td>\n",
       "      <td>179</td>\n",
       "      <td>326</td>\n",
       "    </tr>\n",
       "  </tbody>\n",
       "</table>\n",
       "</div>"
      ],
      "text/plain": [
       "       jan  feb  mar  apr  may  jun  jul  aug  sep  oct  nov  dec\n",
       "fruit                                                            \n",
       "apple   98  189  300  127   69  483  261  381  313   86  470  246\n",
       "mango  100   97  112  496  150  395   91  217  188  434  179  326"
      ]
     },
     "execution_count": 10,
     "metadata": {},
     "output_type": "execute_result"
    }
   ],
   "source": [
    "#  Get values at specified index and level\n",
    "multi_index_df.xs('best', level=1)"
   ]
  },
  {
   "cell_type": "code",
   "execution_count": 11,
   "id": "f7fb97ca",
   "metadata": {},
   "outputs": [
    {
     "data": {
      "text/plain": [
       "fruit  quality\n",
       "apple  low        100\n",
       "       medium     124\n",
       "       ok          97\n",
       "       good       130\n",
       "       better     142\n",
       "       best        98\n",
       "mango  low         40\n",
       "       medium      34\n",
       "       ok          30\n",
       "       good        54\n",
       "       better      49\n",
       "       best       100\n",
       "Name: jan, dtype: int64"
      ]
     },
     "execution_count": 11,
     "metadata": {},
     "output_type": "execute_result"
    }
   ],
   "source": [
    "# Get values at specified column and axis\n",
    "multi_index_df.xs('jan', axis=1 )"
   ]
  },
  {
   "cell_type": "code",
   "execution_count": 12,
   "id": "ee72147c",
   "metadata": {},
   "outputs": [
    {
     "name": "stdout",
     "output_type": "stream",
     "text": [
      "               jan  feb  mar  apr  may  jun  jul  aug  sep  oct  nov  dec\n",
      "fruit quality                                                            \n",
      "apple best      98  189  300  127   69  483  261  381  313   86  470  246\n",
      "      better   142  423  212  109  191  413   60   82  165  310  129   69\n",
      "      good     130  321  494  380  151  293  293  191  376  396  492  297\n",
      "      low      100  190  147  193  386  369  442  412  347  468  494  169\n",
      "      medium   124  234  214  387  358  256  350  145  119  480  238  487\n",
      "      ok        97  187  237  262  475  151   75  445  186  101  191  424\n",
      "mango best     100   97  112  496  150  395   91  217  188  434  179  326\n",
      "      better    49   73   94   94  169  458  392  180  160  246  430  323\n",
      "      good      54   61  100   62  171  496  435  116  461  351  133  231\n",
      "      low       40   45  515  168  432  375  367  255  407  309  137  406\n",
      "      medium    34   54  435  142   72  153  128  391  437  463  484  447\n",
      "      ok        30   57  567  259  498  243  251  362  243  124   97  137\n",
      "               jan  feb  mar  apr  may  jun  jul  aug  sep  oct  nov  dec\n",
      "fruit quality                                                            \n",
      "apple good     130  321  494  380  151  293  293  191  376  396  492  297\n",
      "      low      100  190  147  193  386  369  442  412  347  468  494  169\n",
      "      medium   124  234  214  387  358  256  350  145  119  480  238  487\n",
      "      ok        97  187  237  262  475  151   75  445  186  101  191  424\n",
      "mango best     100   97  112  496  150  395   91  217  188  434  179  326\n",
      "      better    49   73   94   94  169  458  392  180  160  246  430  323\n",
      "      good      54   61  100   62  171  496  435  116  461  351  133  231\n"
     ]
    }
   ],
   "source": [
    "# sort the index so that pandas can apply intelligent algorithms to speed up access\n",
    "midf_sorted = multi_index_df.sort_index()\n",
    "# now we can supply key ranges to select items\n",
    "print(midf_sorted.loc['apple':])\n",
    "print(midf_sorted.loc[('apple', 'good'): ('mango', 'good')])"
   ]
  },
  {
   "cell_type": "code",
   "execution_count": 14,
   "id": "15bdcf65",
   "metadata": {},
   "outputs": [
    {
     "data": {
      "text/html": [
       "<div>\n",
       "<style scoped>\n",
       "    .dataframe tbody tr th:only-of-type {\n",
       "        vertical-align: middle;\n",
       "    }\n",
       "\n",
       "    .dataframe tbody tr th {\n",
       "        vertical-align: top;\n",
       "    }\n",
       "\n",
       "    .dataframe thead th {\n",
       "        text-align: right;\n",
       "    }\n",
       "</style>\n",
       "<table border=\"1\" class=\"dataframe\">\n",
       "  <thead>\n",
       "    <tr style=\"text-align: right;\">\n",
       "      <th></th>\n",
       "      <th></th>\n",
       "      <th>jan</th>\n",
       "      <th>feb</th>\n",
       "      <th>mar</th>\n",
       "      <th>apr</th>\n",
       "      <th>may</th>\n",
       "      <th>jun</th>\n",
       "      <th>jul</th>\n",
       "      <th>aug</th>\n",
       "      <th>sep</th>\n",
       "      <th>oct</th>\n",
       "      <th>nov</th>\n",
       "      <th>dec</th>\n",
       "    </tr>\n",
       "    <tr>\n",
       "      <th>fruit</th>\n",
       "      <th>quality</th>\n",
       "      <th></th>\n",
       "      <th></th>\n",
       "      <th></th>\n",
       "      <th></th>\n",
       "      <th></th>\n",
       "      <th></th>\n",
       "      <th></th>\n",
       "      <th></th>\n",
       "      <th></th>\n",
       "      <th></th>\n",
       "      <th></th>\n",
       "      <th></th>\n",
       "    </tr>\n",
       "  </thead>\n",
       "  <tbody>\n",
       "  </tbody>\n",
       "</table>\n",
       "</div>"
      ],
      "text/plain": [
       "Empty DataFrame\n",
       "Columns: [jan, feb, mar, apr, may, jun, jul, aug, sep, oct, nov, dec]\n",
       "Index: []"
      ]
     },
     "execution_count": 14,
     "metadata": {},
     "output_type": "execute_result"
    }
   ],
   "source": [
    "# for whatever reason this is not working lets move on\n",
    "midf_sorted.loc[(slice('apple', 'good'), slice('mango', 'best')), :]"
   ]
  },
  {
   "cell_type": "code",
   "execution_count": 16,
   "id": "767fbfbe",
   "metadata": {},
   "outputs": [
    {
     "name": "stdout",
     "output_type": "stream",
     "text": [
      "               jan  feb  mar  apr  may  jun  jul  aug  sep  oct  nov  dec\n",
      "fruit quality                                                            \n",
      "apple best      98  189  300  127   69  483  261  381  313   86  470  246\n",
      "mango best     100   97  112  496  150  395   91  217  188  434  179  326\n",
      "               jan  feb  mar  apr  may  jun  jul  aug  sep  oct  nov  dec\n",
      "fruit quality                                                            \n",
      "apple best      98  189  300  127   69  483  261  381  313   86  470  246\n",
      "      better   142  423  212  109  191  413   60   82  165  310  129   69\n",
      "      good     130  321  494  380  151  293  293  191  376  396  492  297\n",
      "      low      100  190  147  193  386  369  442  412  347  468  494  169\n"
     ]
    }
   ],
   "source": [
    "idx = pd.IndexSlice\n",
    "print(midf_sorted.loc[idx[:, 'best'], :])\n",
    "print(midf_sorted.loc[idx['a':'b', 'b': 'm'], :])"
   ]
  },
  {
   "cell_type": "markdown",
   "id": "ae11c1a1",
   "metadata": {},
   "source": [
    "# Create MultiIndexes"
   ]
  },
  {
   "cell_type": "code",
   "execution_count": 21,
   "id": "2362cd31",
   "metadata": {},
   "outputs": [
    {
     "name": "stdout",
     "output_type": "stream",
     "text": [
      "MultiIndex([(2021, 'jan'),\n",
      "            (2022, 'feb')],\n",
      "           )\n",
      "MultiIndex([(2021, 'jan'),\n",
      "            (2021, 'feb'),\n",
      "            (2021, 'mar')],\n",
      "           )\n",
      "MultiIndex([(2021, 'jan',  'low'),\n",
      "            (2021, 'jan', 'high'),\n",
      "            (2021, 'feb',  'low'),\n",
      "            (2021, 'feb', 'high'),\n",
      "            (2021, 'mar',  'low'),\n",
      "            (2021, 'mar', 'high'),\n",
      "            (2022, 'jan',  'low'),\n",
      "            (2022, 'jan', 'high'),\n",
      "            (2022, 'feb',  'low'),\n",
      "            (2022, 'feb', 'high'),\n",
      "            (2022, 'mar',  'low'),\n",
      "            (2022, 'mar', 'high')],\n",
      "           )\n"
     ]
    }
   ],
   "source": [
    "print(pd.MultiIndex.from_arrays([[2021, 2022], ['jan', 'feb']]))\n",
    "print(pd.MultiIndex.from_tuples([(2021, 'jan'), (2021, 'feb'), (2021, 'mar')]))\n",
    "print(pd.MultiIndex.from_product([[2021, 2022], ['jan', 'feb', 'mar'], ['low', 'high']]))"
   ]
  },
  {
   "cell_type": "code",
   "execution_count": 23,
   "id": "d92c61f4",
   "metadata": {},
   "outputs": [
    {
     "data": {
      "text/html": [
       "<div>\n",
       "<style scoped>\n",
       "    .dataframe tbody tr th:only-of-type {\n",
       "        vertical-align: middle;\n",
       "    }\n",
       "\n",
       "    .dataframe tbody tr th {\n",
       "        vertical-align: top;\n",
       "    }\n",
       "\n",
       "    .dataframe thead tr th {\n",
       "        text-align: left;\n",
       "    }\n",
       "</style>\n",
       "<table border=\"1\" class=\"dataframe\">\n",
       "  <thead>\n",
       "    <tr>\n",
       "      <th></th>\n",
       "      <th colspan=\"2\" halign=\"left\">jan</th>\n",
       "      <th colspan=\"2\" halign=\"left\">feb</th>\n",
       "    </tr>\n",
       "    <tr>\n",
       "      <th></th>\n",
       "      <th>low</th>\n",
       "      <th>high</th>\n",
       "      <th>low</th>\n",
       "      <th>high</th>\n",
       "    </tr>\n",
       "  </thead>\n",
       "  <tbody>\n",
       "    <tr>\n",
       "      <th>Infy</th>\n",
       "      <td>1100</td>\n",
       "      <td>3100</td>\n",
       "      <td>510</td>\n",
       "      <td>1600</td>\n",
       "    </tr>\n",
       "    <tr>\n",
       "      <th>TCS</th>\n",
       "      <td>1130</td>\n",
       "      <td>3222</td>\n",
       "      <td>522</td>\n",
       "      <td>1645</td>\n",
       "    </tr>\n",
       "    <tr>\n",
       "      <th>SBIN</th>\n",
       "      <td>1040</td>\n",
       "      <td>2812</td>\n",
       "      <td>440</td>\n",
       "      <td>1512</td>\n",
       "    </tr>\n",
       "    <tr>\n",
       "      <th>HDFCBank</th>\n",
       "      <td>1055</td>\n",
       "      <td>2913</td>\n",
       "      <td>476</td>\n",
       "      <td>1545</td>\n",
       "    </tr>\n",
       "  </tbody>\n",
       "</table>\n",
       "</div>"
      ],
      "text/plain": [
       "           jan        feb      \n",
       "           low  high  low  high\n",
       "Infy      1100  3100  510  1600\n",
       "TCS       1130  3222  522  1645\n",
       "SBIN      1040  2812  440  1512\n",
       "HDFCBank  1055  2913  476  1545"
      ]
     },
     "execution_count": 23,
     "metadata": {},
     "output_type": "execute_result"
    }
   ],
   "source": [
    "cols = pd.MultiIndex.from_product([['jan', 'feb'], ['low', 'high']])\n",
    "rows = pd.Series(['Infy', 'TCS', 'SBIN', 'HDFCBank'])\n",
    "data = [[1100,3100,510,1600],[1130, 3222, 522, 1645], [1040,2812,440,1512], [1055, 2913, 476, 1545]]\n",
    "\n",
    "# DataFame with multi index columns\n",
    "# stocks low high df\n",
    "slhdf = pd.DataFrame(data, columns=cols).set_index(rows)\n",
    "slhdf"
   ]
  },
  {
   "cell_type": "code",
   "execution_count": 26,
   "id": "9a685e51",
   "metadata": {},
   "outputs": [
    {
     "name": "stdout",
     "output_type": "stream",
     "text": [
      "Infy        3100\n",
      "TCS         3222\n",
      "SBIN        2812\n",
      "HDFCBank    2913\n",
      "Name: (jan, high), dtype: int64\n",
      "Infy        1600\n",
      "TCS         1645\n",
      "SBIN        1512\n",
      "HDFCBank    1545\n",
      "Name: (feb, high), dtype: int64\n"
     ]
    }
   ],
   "source": [
    "print(slhdf.loc[:, ('jan', 'high')])\n",
    "print(slhdf[('feb', 'high')])"
   ]
  },
  {
   "cell_type": "code",
   "execution_count": 28,
   "id": "55246f41",
   "metadata": {},
   "outputs": [
    {
     "name": "stdout",
     "output_type": "stream",
     "text": [
      "           jan   feb\n",
      "          high  high\n",
      "Infy      3100  1600\n",
      "TCS       3222  1645\n",
      "SBIN      2812  1512\n",
      "HDFCBank  2913  1545\n",
      "           low  high\n",
      "Infy      1100  3100\n",
      "TCS       1130  3222\n",
      "SBIN      1040  2812\n",
      "HDFCBank  1055  2913\n",
      "           jan   feb\n",
      "Infy      3100  1600\n",
      "TCS       3222  1645\n",
      "SBIN      2812  1512\n",
      "HDFCBank  2913  1545\n"
     ]
    }
   ],
   "source": [
    "idx = pd.IndexSlice\n",
    "print(slhdf.loc[:,idx[:, 'high']])\n",
    "print(slhdf.xs('jan', level=0, axis=1))\n",
    "print(slhdf.xs('high', level=1, axis=1))"
   ]
  },
  {
   "cell_type": "code",
   "execution_count": 30,
   "id": "c397a046",
   "metadata": {},
   "outputs": [
    {
     "name": "stdout",
     "output_type": "stream",
     "text": [
      "['m1', 'm2']\n",
      "m1         jan   feb\n",
      "Infy      3100  1600\n",
      "TCS       3222  1645\n",
      "SBIN      2812  1512\n",
      "HDFCBank  2913  1545\n",
      "m2         low  high\n",
      "Infy      1100  3100\n",
      "TCS       1130  3222\n",
      "SBIN      1040  2812\n",
      "HDFCBank  1055  2913\n"
     ]
    }
   ],
   "source": [
    "slhdf.columns.names = ['m1', 'm2']\n",
    "print(slhdf.columns.names)\n",
    "print(slhdf.xs('high', level='m2', axis=1))\n",
    "print(slhdf.xs('jan', level='m1', axis=1))"
   ]
  }
 ],
 "metadata": {
  "kernelspec": {
   "display_name": "Python 3 (ipykernel)",
   "language": "python",
   "name": "python3"
  },
  "language_info": {
   "codemirror_mode": {
    "name": "ipython",
    "version": 3
   },
   "file_extension": ".py",
   "mimetype": "text/x-python",
   "name": "python",
   "nbconvert_exporter": "python",
   "pygments_lexer": "ipython3",
   "version": "3.10.9"
  }
 },
 "nbformat": 4,
 "nbformat_minor": 5
}
